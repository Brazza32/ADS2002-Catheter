{
  "nbformat": 4,
  "nbformat_minor": 0,
  "metadata": {
    "colab": {
      "provenance": [],
      "authorship_tag": "ABX9TyOnOm+8WsxLkLn30TWuAE0q",
      "include_colab_link": true
    },
    "kernelspec": {
      "name": "python3",
      "display_name": "Python 3"
    },
    "language_info": {
      "name": "python"
    }
  },
  "cells": [
    {
      "cell_type": "markdown",
      "metadata": {
        "id": "view-in-github",
        "colab_type": "text"
      },
      "source": [
        "<a href=\"https://colab.research.google.com/github/Brazza32/ADS2002-Catheter/blob/main/Model.ipynb\" target=\"_parent\"><img src=\"https://colab.research.google.com/assets/colab-badge.svg\" alt=\"Open In Colab\"/></a>"
      ]
    },
    {
      "cell_type": "code",
      "source": [
        "import numpy as np\n",
        "import os\n",
        "import PIL\n",
        "import PIL.Image\n",
        "import tensorflow as tf\n",
        "import tensorflow_datasets as tfds\n",
        "import matplotlib.pyplot as plt\n",
        "import pandas as pd\n"
      ],
      "metadata": {
        "id": "Pbq43dAZjDOb"
      },
      "execution_count": 1,
      "outputs": []
    },
    {
      "cell_type": "code",
      "source": [
        "from google.colab import drive\n",
        "drive.mount('/content/drive')"
      ],
      "metadata": {
        "colab": {
          "base_uri": "https://localhost:8080/"
        },
        "id": "-9k7rKEsjFhB",
        "outputId": "9d4771f5-f1e1-47f4-8846-4322dcec9efc"
      },
      "execution_count": 2,
      "outputs": [
        {
          "output_type": "stream",
          "name": "stdout",
          "text": [
            "Drive already mounted at /content/drive; to attempt to forcibly remount, call drive.mount(\"/content/drive\", force_remount=True).\n"
          ]
        }
      ]
    },
    {
      "cell_type": "code",
      "execution_count": 3,
      "metadata": {
        "id": "mCK1uRS2jAd1"
      },
      "outputs": [],
      "source": [
        "import os\n",
        "import cv2\n",
        "\n",
        "## When calling in massive, call the correct folder path for the model you a\n",
        "\n",
        "image_folder = '/content/drive/MyDrive/Catheter - ADS2002/Sample Images'\n",
        "images = []\n",
        "studyid = []\n",
        "\n",
        "for filename in os.listdir(image_folder):\n",
        "  img = cv2.resize(cv2.imread(os.path.join(image_folder, filename),cv2.IMREAD_GRAYSCALE),(2028,2020))\n",
        "  img = img/255\n",
        "  if img is not None:\n",
        "    images.append(img)\n",
        "\n",
        "for filename in os.listdir(image_folder):\n",
        "  studyid.append(filename )\n",
        "\n",
        "new = pd.DataFrame()\n",
        "new['StudyInstanceUID'] = studyid\n",
        "new['ImageData'] = images"
      ]
    },
    {
      "cell_type": "code",
      "source": [
        "catheter = pd.read_csv(\"/content/drive/MyDrive/Catheter - ADS2002/ranzcr-clip-catheter-line-classification/train.csv\")\n",
        "catheter.drop_duplicates() #No duplicates (same number of rows)\n",
        "train = pd.read_csv(\"/content/drive/MyDrive/Catheter - ADS2002/ranzcr-clip-catheter-line-classification/train.csv\")\n",
        "train_annotations = pd.read_csv(\"/content/drive/MyDrive/Catheter - ADS2002/ranzcr-clip-catheter-line-classification/train_annotations.csv\")\n",
        "merged = pd.merge(train, train_annotations, on = \"StudyInstanceUID\",how = \"inner\")\n",
        "merged['StudyInstanceUID'] = merged['StudyInstanceUID'] + '.jpg'"
      ],
      "metadata": {
        "id": "DcBEpJocjCwM"
      },
      "execution_count": 4,
      "outputs": []
    },
    {
      "cell_type": "code",
      "source": [
        "BinaryETT = merged.copy()\n",
        "\n",
        "BinaryETT['ETT'] = BinaryETT['ETT - Normal']\n",
        "BinaryETT['ETT'] = BinaryETT['ETT'] + BinaryETT['ETT - Abnormal']\n",
        "BinaryETT['ETT'] = BinaryETT['ETT'] + BinaryETT['ETT - Borderline']\n",
        "\n",
        "BinaryETT.drop(BinaryETT[(BinaryETT['ETT'] == 2)].index, inplace=True)\n",
        "BinaryETT.drop(BinaryETT[(BinaryETT['ETT'] == 3)].index, inplace=True)\n",
        "\n",
        "BinaryETT = BinaryETT[['ETT','StudyInstanceUID']]\n",
        "\n",
        "ETTData = pd.merge(new, BinaryETT, on = \"StudyInstanceUID\",how = \"inner\")\n"
      ],
      "metadata": {
        "id": "pn_WEAkkjCVo"
      },
      "execution_count": 5,
      "outputs": []
    },
    {
      "cell_type": "code",
      "source": [
        "BinaryCVC = merged.copy()\n",
        "\n",
        "BinaryCVC['CVC'] = BinaryCVC['CVC - Normal']\n",
        "BinaryCVC['CVC'] = BinaryCVC['CVC'] + BinaryCVC['CVC - Abnormal']\n",
        "BinaryCVC['CVC'] = BinaryCVC['CVC'] + BinaryCVC['CVC - Borderline']\n",
        "\n",
        "BinaryCVC.drop(BinaryCVC[(BinaryCVC['CVC'] == 2)].index, inplace=True)\n",
        "BinaryCVC.drop(BinaryCVC[(BinaryCVC['CVC'] == 3)].index, inplace=True)\n",
        "\n",
        "\n",
        "BinaryCVC = BinaryCVC[['CVC','StudyInstanceUID', 'PatientID','label','data']]"
      ],
      "metadata": {
        "id": "iguYseYKj_p5"
      },
      "execution_count": 6,
      "outputs": []
    },
    {
      "cell_type": "code",
      "source": [
        "BinaryNGT = merged.copy()\n",
        "\n",
        "BinaryNGT['NGT'] = BinaryNGT['NGT - Normal']\n",
        "BinaryNGT['NGT'] = BinaryNGT['NGT'] + BinaryNGT['NGT - Abnormal']\n",
        "BinaryNGT['NGT'] = BinaryNGT['NGT'] + BinaryNGT['NGT - Borderline']\n",
        "\n",
        "BinaryNGT.drop(BinaryNGT[(BinaryNGT['NGT'] == 2)].index, inplace=True)\n",
        "BinaryNGT.drop(BinaryNGT[(BinaryNGT['NGT'] == 3)].index, inplace=True)\n",
        "\n",
        "\n",
        "BinaryNGT = BinaryNGT[['NGT','StudyInstanceUID', 'PatientID','label','data']]"
      ],
      "metadata": {
        "id": "YniXVVIRkBzH"
      },
      "execution_count": 7,
      "outputs": []
    },
    {
      "cell_type": "code",
      "source": [
        "from tensorflow.keras import datasets, layers, models\n",
        "from sklearn.model_selection import train_test_split\n",
        "\n",
        "\n",
        "model = models.Sequential()\n",
        "model.add(layers.Conv2D(32, (3, 3), activation='relu', input_shape=(2020,2028,1)))\n",
        "model.add(layers.MaxPooling2D((2, 2)))\n",
        "model.add(layers.Conv2D(64, (3, 3), activation='relu'))\n",
        "model.add(layers.MaxPooling2D((2, 2)))\n",
        "model.add(layers.Conv2D(64, (3, 3), activation='relu'))\n",
        "\n",
        "model.add(layers.Flatten())\n",
        "model.add(layers.Dense(10, activation='relu'))\n",
        "model.add(layers.Dense(10))\n"
      ],
      "metadata": {
        "id": "aaYBzjC7D8mY"
      },
      "execution_count": 8,
      "outputs": []
    },
    {
      "cell_type": "code",
      "source": [
        "model.compile(optimizer='adam',\n",
        "              loss=tf.keras.losses.SparseCategoricalCrossentropy(from_logits=True),\n",
        "              metrics=['accuracy'])\n",
        "\n",
        "X = ETTData['ImageData']\n",
        "Y = ETTData['ETT']\n",
        "\n",
        "X = np.stack(X)\n",
        "Y = np.stack(Y)\n",
        "\n",
        "X_train, X_test, Y_train, Y_test = train_test_split(X, Y, test_size=0.2, random_state=42)\n",
        "\n"
      ],
      "metadata": {
        "id": "kJijuMv-FlMX"
      },
      "execution_count": 9,
      "outputs": []
    },
    {
      "cell_type": "code",
      "source": [
        "ettclasif = model.fit(X_train, Y_train, epochs=10,\n",
        "                    validation_data=(X_test, Y_test))"
      ],
      "metadata": {
        "colab": {
          "base_uri": "https://localhost:8080/"
        },
        "id": "NsrQxEe6LOiG",
        "outputId": "4d004629-f376-40c0-ad34-2bc7ba27ef41"
      },
      "execution_count": null,
      "outputs": [
        {
          "output_type": "stream",
          "name": "stdout",
          "text": [
            "Epoch 1/10\n"
          ]
        }
      ]
    }
  ]
}